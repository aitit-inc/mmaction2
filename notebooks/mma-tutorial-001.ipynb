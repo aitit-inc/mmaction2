{
 "cells": [
  {
   "cell_type": "markdown",
   "id": "6a3b4416-1765-43e0-b443-dd2b072621f5",
   "metadata": {},
   "source": [
    "# Verify the installation\n",
    "https://mmaction2.readthedocs.io/en/latest/get_started/installation.html#verify-the-installation"
   ]
  },
  {
   "cell_type": "code",
   "execution_count": 1,
   "id": "08f2507e-b309-4577-bbe0-6d395a7966be",
   "metadata": {
    "tags": []
   },
   "outputs": [
    {
     "name": "stderr",
     "output_type": "stream",
     "text": [
      "/opt/conda/lib/python3.10/site-packages/tqdm/auto.py:22: TqdmWarning: IProgress not found. Please update jupyter and ipywidgets. See https://ipywidgets.readthedocs.io/en/stable/user_install.html\n",
      "  from .autonotebook import tqdm as notebook_tqdm\n"
     ]
    }
   ],
   "source": [
    "from operator import itemgetter\n",
    "from mmaction.apis import init_recognizer, inference_recognizer"
   ]
  },
  {
   "cell_type": "code",
   "execution_count": 2,
   "id": "96bed835-8dfc-4f23-829e-47c634cf044b",
   "metadata": {
    "tags": []
   },
   "outputs": [
    {
     "name": "stdout",
     "output_type": "stream",
     "text": [
      "Loads checkpoint by local backend from path: ../models/tsn_imagenet-pretrained-r50_8xb32-1x1x8-100e_kinetics400-rgb_20220906-2692d16c.pth\n",
      "05/01 08:29:36 - mmengine - \u001b[5m\u001b[4m\u001b[33mWARNING\u001b[0m - \"FileClient\" will be deprecated in future. Please use io functions in https://mmengine.readthedocs.io/en/latest/api/fileio.html#file-io\n",
      "05/01 08:29:36 - mmengine - \u001b[5m\u001b[4m\u001b[33mWARNING\u001b[0m - \"HardDiskBackend\" is the alias of \"LocalBackend\" and the former will be deprecated in future.\n",
      "The top-5 labels with corresponding scores are:\n",
      "arm wrestling:  1.0\n",
      "rock scissors paper:  9.462836601543262e-14\n",
      "massaging feet:  1.6511641839499387e-14\n",
      "stretching leg:  2.9603629982365978e-15\n",
      "opening bottle:  2.2746603930393246e-15\n"
     ]
    }
   ],
   "source": [
    "model_dir = '../models'\n",
    "mma2_dir = '../mmaction2'\n",
    "\n",
    "config_file = model_dir + '/tsn_imagenet-pretrained-r50_8xb32-1x1x8-100e_kinetics400-rgb.py'\n",
    "checkpoint_file = model_dir + '/tsn_imagenet-pretrained-r50_8xb32-1x1x8-100e_kinetics400-rgb_20220906-2692d16c.pth'\n",
    "video_file = mma2_dir + '/demo/demo.mp4'\n",
    "label_file = mma2_dir + '/tools/data/kinetics/label_map_k400.txt'\n",
    "\n",
    "# Initialize model\n",
    "model = init_recognizer(config_file, checkpoint_file, device='cuda:0')  # or device='cuda:0'\n",
    "pred_result = inference_recognizer(model, video_file)\n",
    "\n",
    "pred_scores = pred_result.pred_scores.item.tolist()\n",
    "score_tuples = tuple(zip(range(len(pred_scores)), pred_scores))\n",
    "score_sorted = sorted(score_tuples, key=itemgetter(1), reverse=True)\n",
    "top5_label = score_sorted[:5]\n",
    "\n",
    "labels = open(label_file).readlines()\n",
    "labels = [x.strip() for x in labels]\n",
    "results = [(labels[k[0]], k[1]) for k in top5_label]\n",
    "\n",
    "print('The top-5 labels with corresponding scores are:')\n",
    "for result in results:\n",
    "    print(f'{result[0]}: ', result[1])"
   ]
  },
  {
   "cell_type": "code",
   "execution_count": 3,
   "id": "060becb3-626c-41dd-a8e6-9e116157148d",
   "metadata": {
    "tags": []
   },
   "outputs": [
    {
     "name": "stdout",
     "output_type": "stream",
     "text": [
      "NVIDIA GeForce RTX 2080 Ti\n"
     ]
    }
   ],
   "source": [
    "import torch\n",
    "print(torch.cuda.get_device_name(0))"
   ]
  },
  {
   "cell_type": "code",
   "execution_count": null,
   "id": "09873e70-84ff-4684-9537-07f51b1c6201",
   "metadata": {},
   "outputs": [],
   "source": []
  }
 ],
 "metadata": {
  "kernelspec": {
   "display_name": "Python 3 (ipykernel)",
   "language": "python",
   "name": "python3"
  },
  "language_info": {
   "codemirror_mode": {
    "name": "ipython",
    "version": 3
   },
   "file_extension": ".py",
   "mimetype": "text/x-python",
   "name": "python",
   "nbconvert_exporter": "python",
   "pygments_lexer": "ipython3",
   "version": "3.10.8"
  }
 },
 "nbformat": 4,
 "nbformat_minor": 5
}
